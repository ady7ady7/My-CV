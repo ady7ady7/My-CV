{
 "cells": [
  {
   "cell_type": "markdown",
   "id": "28404ec7",
   "metadata": {},
   "source": [
    "Sekwencyjnosc H1."
   ]
  },
  {
   "cell_type": "markdown",
   "id": "6e5f7f3b",
   "metadata": {},
   "source": [
    "BTC, 300 DNI:"
   ]
  },
  {
   "cell_type": "markdown",
   "id": "b65af954",
   "metadata": {},
   "source": [
    "1:00 wzgledem 0:00 - 56.0% countertrend"
   ]
  },
  {
   "cell_type": "markdown",
   "id": "8293527c",
   "metadata": {},
   "source": [
    "2:00 wzgledem 1:00 - 54.4% countertrend"
   ]
  },
  {
   "cell_type": "markdown",
   "id": "2eb09b41",
   "metadata": {},
   "source": [
    "3:00 wzgledem 2:00 - 56.4% countertrend"
   ]
  },
  {
   "cell_type": "markdown",
   "id": "0d45144d",
   "metadata": {},
   "source": [
    "4:00 wzgledem 3:00 - 51.3% countertrend"
   ]
  },
  {
   "cell_type": "markdown",
   "id": "c9aa25cd",
   "metadata": {},
   "source": [
    "5:00 wzgledem 4:00 - 54.7% countertrend"
   ]
  },
  {
   "cell_type": "markdown",
   "id": "8ab43dc2",
   "metadata": {},
   "source": [
    "6:00 wzgledem 5:00 - 54.7% trend"
   ]
  },
  {
   "cell_type": "markdown",
   "id": "f513fd5f",
   "metadata": {},
   "source": [
    "7:00 wzgledem 6:00 - 54.3% countertrend"
   ]
  },
  {
   "cell_type": "markdown",
   "id": "9db89d01",
   "metadata": {},
   "source": [
    "8:00 wzgledem 7:00 - 58.3% countertrend"
   ]
  },
  {
   "cell_type": "markdown",
   "id": "aaea853b",
   "metadata": {},
   "source": [
    "9:00 wzgledem 8:00 - 53.0% countertrend"
   ]
  },
  {
   "cell_type": "markdown",
   "id": "0d91f750",
   "metadata": {},
   "source": [
    "10:00 wzgledem 9:00 - 55.7% countertrend"
   ]
  },
  {
   "cell_type": "markdown",
   "id": "38c94cc3",
   "metadata": {},
   "source": [
    "11:00 wzgledem 10:00 - 57.3% countertrend"
   ]
  },
  {
   "cell_type": "markdown",
   "id": "fe609463",
   "metadata": {},
   "source": [
    "12:00 wzgledem 11:00 - 51.3% countertrend"
   ]
  },
  {
   "cell_type": "markdown",
   "id": "34517307",
   "metadata": {},
   "source": [
    "13:00 wzgledem 12:00 - 52.3% countertrend"
   ]
  },
  {
   "cell_type": "markdown",
   "id": "67908f6e",
   "metadata": {},
   "source": [
    "14:00 wzgledem 13:00 - 54.7% countertrend"
   ]
  },
  {
   "cell_type": "markdown",
   "id": "c4c48452",
   "metadata": {},
   "source": [
    "15:00 wzgledem 14:00 - 52.7% countertrend"
   ]
  },
  {
   "cell_type": "markdown",
   "id": "a1fdfbc3",
   "metadata": {},
   "source": [
    "16:00 wzgledem 15:00 - 53.7% countertrend"
   ]
  },
  {
   "cell_type": "markdown",
   "id": "73cedb5a",
   "metadata": {},
   "source": [
    "17:00 wzgledem 16:00 - 57.7% countertrend"
   ]
  },
  {
   "cell_type": "markdown",
   "id": "1cbb3faf",
   "metadata": {},
   "source": [
    "18:00 wzgledem 17:00 - 60.3% countertrend"
   ]
  },
  {
   "cell_type": "markdown",
   "id": "7439affa",
   "metadata": {},
   "source": [
    "19:00 wzgledem 18:00 - 50.3% countertrend"
   ]
  },
  {
   "cell_type": "markdown",
   "id": "3a67da37",
   "metadata": {},
   "source": [
    "20:00 wzgledem 19:00 - 50.3% trend"
   ]
  },
  {
   "cell_type": "markdown",
   "id": "6c7c7188",
   "metadata": {},
   "source": [
    "21:00 wzgledem 20:00 - 61.0% countertrend"
   ]
  },
  {
   "cell_type": "markdown",
   "id": "3563ab3d",
   "metadata": {},
   "source": [
    "22:00 wzgledem 21:00 - 53.0% countertrend"
   ]
  },
  {
   "cell_type": "markdown",
   "id": "456f1a2c",
   "metadata": {},
   "source": [
    "23:00 wzgledem 22:00 - 51.7% trend"
   ]
  },
  {
   "cell_type": "markdown",
   "id": "5e2baf60",
   "metadata": {},
   "source": [
    "DATA dla BTC, 800 dni:"
   ]
  },
  {
   "cell_type": "markdown",
   "id": "2ac7c0e2",
   "metadata": {},
   "source": [
    "1:00 wzgledem 0:00 - 53.9% countertrend"
   ]
  },
  {
   "cell_type": "markdown",
   "id": "f9aeacae",
   "metadata": {},
   "source": [
    "2:00 wzgledem 1:00 - 54.3% countertrend"
   ]
  },
  {
   "cell_type": "markdown",
   "id": "7bd7edb0",
   "metadata": {},
   "source": [
    "3:00 wzgledem 2:00 - 54.8% countertrend"
   ]
  },
  {
   "cell_type": "markdown",
   "id": "e94c554f",
   "metadata": {},
   "source": [
    "4:00 wzgledem 3:00 - 54.5% countertrend"
   ]
  },
  {
   "cell_type": "markdown",
   "id": "89015493",
   "metadata": {},
   "source": [
    "5:00 wzgledem 4:00 - 54.8% countertrend"
   ]
  },
  {
   "cell_type": "markdown",
   "id": "baf943f1",
   "metadata": {},
   "source": [
    "6:00 wzgledem 5:00 - 50.5% countertrend"
   ]
  },
  {
   "cell_type": "markdown",
   "id": "84c86cb2",
   "metadata": {},
   "source": [
    "7:00 wzgledem 6:00 - 55.1% countertrend"
   ]
  },
  {
   "cell_type": "markdown",
   "id": "e3299a98",
   "metadata": {},
   "source": [
    "8:00 wzgledem 7:00 - 55.8% countertrend"
   ]
  },
  {
   "cell_type": "markdown",
   "id": "5822a55c",
   "metadata": {},
   "source": [
    "9:00 wzgledem 8:00 - 53.4% countertrend"
   ]
  },
  {
   "cell_type": "markdown",
   "id": "2f6e9298",
   "metadata": {},
   "source": [
    "10:00 wzgledem 9:00 - 56.0% countertrend"
   ]
  },
  {
   "cell_type": "markdown",
   "id": "7c70e661",
   "metadata": {},
   "source": [
    "11:00 wzgledem 10:00 - 56.8% countertrend"
   ]
  },
  {
   "cell_type": "markdown",
   "id": "5aa7c10d",
   "metadata": {},
   "source": [
    "12:00 wzgledem 11:00 - 54.2% countertrend"
   ]
  },
  {
   "cell_type": "markdown",
   "id": "914a0a56",
   "metadata": {},
   "source": [
    "13:00 wzgledem 12:00 - 50.5% countertrend"
   ]
  },
  {
   "cell_type": "markdown",
   "id": "53417054",
   "metadata": {},
   "source": [
    "14:00 wzgledem 13:00 - 55.4% countertrend"
   ]
  },
  {
   "cell_type": "markdown",
   "id": "1f8879e6",
   "metadata": {},
   "source": [
    "15:00 wzgledem 14:00 - 52.3% countertrend"
   ]
  },
  {
   "cell_type": "markdown",
   "id": "906aa000",
   "metadata": {},
   "source": [
    "16:00 wzgledem 15:00 - 54.9% countertrend"
   ]
  },
  {
   "cell_type": "markdown",
   "id": "8a617562",
   "metadata": {},
   "source": [
    "17:00 wzgledem 16:00 - 53.9% countertrend"
   ]
  },
  {
   "cell_type": "markdown",
   "id": "7a02d315",
   "metadata": {},
   "source": [
    "18:00 wzgledem 17:00 - 57.0% countertrend"
   ]
  },
  {
   "cell_type": "markdown",
   "id": "008b7444",
   "metadata": {},
   "source": [
    "19:00 wzgledem 18:00 - 51.9% countertrend"
   ]
  },
  {
   "cell_type": "markdown",
   "id": "dd353cfc",
   "metadata": {},
   "source": [
    "20:00 wzgledem 19:00 - 51.5% countertrend"
   ]
  },
  {
   "cell_type": "markdown",
   "id": "164fffe0",
   "metadata": {},
   "source": [
    "21:00 wzgledem 20:00 - 52.6% countertrend"
   ]
  },
  {
   "cell_type": "markdown",
   "id": "e8645347",
   "metadata": {},
   "source": [
    "22:00 wzgledem 21:00 - 55.0% countertrend"
   ]
  },
  {
   "cell_type": "markdown",
   "id": "f2d9db1e",
   "metadata": {},
   "source": [
    "23:00 wzgledem 22:00 - 51.5% countertrend"
   ]
  }
 ],
 "metadata": {},
 "nbformat": 4,
 "nbformat_minor": 5
}
